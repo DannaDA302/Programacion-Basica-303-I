{
  "nbformat": 4,
  "nbformat_minor": 0,
  "metadata": {
    "colab": {
      "provenance": [],
      "authorship_tag": "ABX9TyNT8wFS8wIvLpP8kCcUi8kD",
      "include_colab_link": true
    },
    "kernelspec": {
      "name": "python3",
      "display_name": "Python 3"
    },
    "language_info": {
      "name": "python"
    }
  },
  "cells": [
    {
      "cell_type": "markdown",
      "metadata": {
        "id": "view-in-github",
        "colab_type": "text"
      },
      "source": [
        "<a href=\"https://colab.research.google.com/github/DannaDA302/Programacion-Basica-303-I/blob/main/ACTLAB-302%2B/Actlab1-302/actlab1.ipynb\" target=\"_parent\"><img src=\"https://colab.research.google.com/assets/colab-badge.svg\" alt=\"Open In Colab\"/></a>"
      ]
    },
    {
      "cell_type": "markdown",
      "source": [
        "Actividad de laboratorio 1 impresion de mensaje"
      ],
      "metadata": {
        "id": "dAWsjzFrxjU_"
      }
    },
    {
      "cell_type": "markdown",
      "source": [
        " PB302_1.cpp programa para Bienvenida"
      ],
      "metadata": {
        "id": "QVeI5hkemMJZ"
      }
    },
    {
      "cell_type": "code",
      "source": [
        "%%writefile PB302_1.cpp\n",
        "//Programa para imprimir mensaje de bienvenida\n",
        "//Creado por Danna Yanelly Duran Aniceto\n",
        "//Fecha:15/septiembre/2025\n",
        "//PB302_1.cpp\n",
        "#include <iostream>\n",
        "using namespace std;\n",
        "int main ()\n",
        "{\n",
        "  cout<<\"Bienvenidos a programacion Basica en C++\\n\";\n",
        "  cout<<\"gracias por programar en clase\";\n",
        "  return 0;\n",
        "}"
      ],
      "metadata": {
        "colab": {
          "base_uri": "https://localhost:8080/"
        },
        "id": "INNeb-Z4n-AW",
        "outputId": "e4a18f3d-1d2d-4f08-c616-c0a0696ca9cc"
      },
      "execution_count": null,
      "outputs": [
        {
          "output_type": "stream",
          "name": "stdout",
          "text": [
            "Overwriting PB302_1.cpp\n"
          ]
        }
      ]
    },
    {
      "cell_type": "code",
      "source": [
        "!g++ PB302_1.cpp -o PB302_1\n",
        "!./PB302_1"
      ],
      "metadata": {
        "colab": {
          "base_uri": "https://localhost:8080/"
        },
        "id": "RaY-VXO8p_79",
        "outputId": "83bcf31e-fb36-4e72-e228-3bbe14ebedb3"
      },
      "execution_count": null,
      "outputs": [
        {
          "output_type": "stream",
          "name": "stdout",
          "text": [
            "Bienvenidos a programacion Basica en C++\n",
            "gracias por programar en clase"
          ]
        }
      ]
    },
    {
      "cell_type": "markdown",
      "source": [
        "PB302_2.cpp Programa para imprimir datos personales"
      ],
      "metadata": {
        "id": "lY8Tu4I_q0fg"
      }
    },
    {
      "cell_type": "code",
      "source": [
        "%%writefile PB302_2.cpp\n",
        "//programa para mostrar datos personales\n",
        "//creado por:Danna Yanelly Duran Aniceto\n",
        "//Fecha:18/09/2025\n",
        "//PB302_2.cpp\n",
        "#include <iostream>\n",
        "using namespace std;\n",
        "int main()\n",
        "{\n",
        "  char nombre[15]=\"Danna yanelly\";\n",
        "  char paterno[7]=\"Duran\";\n",
        "  char materno[9]=\"Aniceto\";\n",
        "  int edad=16;\n",
        "  char direccion[40]=\"colonia puerto anapra calle carpa\";\n",
        "  char fechanac[12]=\"07/05/2009\";\n",
        "  char ciudadnac[15]=\"ciudad juarez\";\n",
        "\n",
        "  cout<<\"Tu nombre completo es:\\n\";\n",
        "  cout<<nombre<<\"\\n\";\n",
        "  cout<<paterno<<\"\\n\";\n",
        "  cout<<materno<<\"\\n\";\n",
        "  cout<<edad<<\"\\n\";\n",
        "  cout<<direccion<<\"\\n\";\n",
        "  cout<<fechanac<<\"\\n\";\n",
        "  cout<<ciudadnac<<\"\\n\";\n",
        "  return 0;\n",
        "}"
      ],
      "metadata": {
        "colab": {
          "base_uri": "https://localhost:8080/"
        },
        "id": "Lj9x3wo7rONX",
        "outputId": "b6d9b8eb-dcc1-4685-b975-0eacdaa2161b"
      },
      "execution_count": 14,
      "outputs": [
        {
          "output_type": "stream",
          "name": "stdout",
          "text": [
            "Overwriting PB302_2.cpp\n"
          ]
        }
      ]
    },
    {
      "cell_type": "code",
      "source": [
        "!g++ PB302_2.cpp -o PB302_2.exe\n",
        "!./PB302_2.exe"
      ],
      "metadata": {
        "colab": {
          "base_uri": "https://localhost:8080/"
        },
        "id": "goM1Pg8ixMpL",
        "outputId": "fda688c8-a3df-4f5e-afd1-263c1a56648a"
      },
      "execution_count": 16,
      "outputs": [
        {
          "output_type": "stream",
          "name": "stdout",
          "text": [
            "Tu nombre completo es:\n",
            "Danna yanelly\n",
            "Duran\n",
            "Aniceto\n",
            "16\n",
            "colonia puerto anapra calle carpa\n",
            "07/05/2009\n",
            "ciudad juarez\n"
          ]
        }
      ]
    }
  ]
}